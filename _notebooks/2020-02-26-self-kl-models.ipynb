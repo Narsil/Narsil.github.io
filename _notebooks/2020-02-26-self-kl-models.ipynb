{
 "cells": [
  {
   "cell_type": "markdown",
   "metadata": {},
   "source": [
    "# Self KL-divergence for detecting out of distribution data and unsupervised text classification\n",
    "> Running two models alongside each other for trivial out of distribution detection in production models and side bonus is getting unsupervised text classification\n",
    "\n",
    "- toc: true \n",
    "- badges: true\n",
    "- comments: true\n",
    "- tags: [ml, nlp, kldivergence]"
   ]
  },
  {
   "cell_type": "markdown",
   "metadata": {},
   "source": [
    "> TL;DR. By training two models in the same dataset order with same architecture, same loss, but different initialization, \n",
    "> I was able to obtain a consistent out-of-distribution detector by measuring the kl-divergence between model outputs.\n",
    "> This out-of-distribution measure used on text could lead to unsupervised text classification.\n"
   ]
  },
  {
   "cell_type": "markdown",
   "metadata": {},
   "source": [
    "## What's the problem ?\n",
    "\n",
    "ML models usually are not really capable of predicting how well the data you     \n",
    "feed them is close to what was in the dataset. It really matters in production \n",
    "models as they might make really stupid mistakes just because they are off       \n",
    "the training set.                             \n",
    "\n",
    "\n",
    "                     "
   ]
  },
  {
   "cell_type": "markdown",
   "metadata": {},
   "source": [
    "Let's train a simple mnist model (straight out from pytorch tutorial https://github.com/pytorch/examples/tree/master/mnist)"
   ]
  },
  {
   "cell_type": "code",
   "execution_count": 2,
   "metadata": {},
   "outputs": [
    {
     "name": "stdout",
     "output_type": "stream",
     "text": [
      "Requirement already satisfied: torch in /home/nicolas/src/miniconda3/lib/python3.7/site-packages (1.4.0)\n",
      "Requirement already satisfied: torchvision in /home/nicolas/src/miniconda3/lib/python3.7/site-packages (0.5.0)\n",
      "Requirement already satisfied: six in /home/nicolas/src/miniconda3/lib/python3.7/site-packages (from torchvision) (1.12.0)\n",
      "Requirement already satisfied: numpy in /home/nicolas/src/miniconda3/lib/python3.7/site-packages (from torchvision) (1.18.1)\n",
      "Requirement already satisfied: pillow>=4.1.1 in /home/nicolas/src/miniconda3/lib/python3.7/site-packages (from torchvision) (7.0.0)\n"
     ]
    }
   ],
   "source": [
    "#hide\n",
    "!pip install torch torchvision"
   ]
  },
  {
   "cell_type": "code",
   "execution_count": 3,
   "metadata": {},
   "outputs": [],
   "source": [
    "#collapse\n",
    "from __future__ import print_function\n",
    "import argparse\n",
    "import torch\n",
    "import torch.nn as nn\n",
    "import torch.nn.functional as F\n",
    "import torch.optim as optim\n",
    "from torchvision import datasets, transforms\n",
    "from torch.optim.lr_scheduler import StepLR\n",
    "import os\n",
    "\n",
    "\n",
    "class Net(nn.Module):\n",
    "    def __init__(self):\n",
    "        super(Net, self).__init__()\n",
    "        self.conv1 = nn.Conv2d(1, 32, 3, 1)\n",
    "        self.conv2 = nn.Conv2d(32, 64, 3, 1)\n",
    "        self.dropout1 = nn.Dropout2d(0.25)\n",
    "        self.dropout2 = nn.Dropout2d(0.5)\n",
    "        self.fc1 = nn.Linear(9216, 128)\n",
    "        self.fc2 = nn.Linear(128, 10)\n",
    "\n",
    "    def forward(self, x):\n",
    "        x = self.conv1(x)\n",
    "        x = F.relu(x)\n",
    "        x = self.conv2(x)\n",
    "        x = F.max_pool2d(x, 2)\n",
    "        x = self.dropout1(x)\n",
    "        x = torch.flatten(x, 1)\n",
    "        x = self.fc1(x)\n",
    "        x = F.relu(x)\n",
    "        x = self.dropout2(x)\n",
    "        x = self.fc2(x)\n",
    "        output = F.log_softmax(x, dim=1)\n",
    "        return output\n",
    "\n",
    "\n",
    "def train(args, model, device, train_loader, optimizer, epoch):\n",
    "    model.train()\n",
    "    for batch_idx, (data, target) in enumerate(train_loader):\n",
    "        data, target = data.to(device), target.to(device)\n",
    "        optimizer.zero_grad()\n",
    "        output = model(data)\n",
    "        loss = F.nll_loss(output, target)\n",
    "        loss.backward()\n",
    "        optimizer.step()\n",
    "        if batch_idx % args.log_interval == 0:\n",
    "            print('Train Epoch: {} [{}/{} ({:.0f}%)]\\tLoss: {:.6f}'.format(\n",
    "                epoch, batch_idx * len(data), len(train_loader.dataset),\n",
    "                100. * batch_idx / len(train_loader), loss.item()))\n",
    "\n",
    "\n",
    "def test(args, model, device, test_loader):\n",
    "    model.eval()\n",
    "    test_loss = 0\n",
    "    correct = 0\n",
    "    with torch.no_grad():\n",
    "        for data, target in test_loader:\n",
    "            data, target = data.to(device), target.to(device)\n",
    "            output = model(data)\n",
    "            test_loss += F.nll_loss(output, target, reduction='sum').item()  # sum up batch loss\n",
    "            pred = output.argmax(dim=1, keepdim=True)  # get the index of the max log-probability\n",
    "            correct += pred.eq(target.view_as(pred)).sum().item()\n",
    "\n",
    "    test_loss /= len(test_loader.dataset)\n",
    "\n",
    "    print('\\nTest set: Average loss: {:.4f}, Accuracy: {}/{} ({:.0f}%)\\n'.format(\n",
    "        test_loss, correct, len(test_loader.dataset),\n",
    "        100. * correct / len(test_loader.dataset)))\n",
    "\n",
    "\n",
    "def mnist():\n",
    "    filename = \"mnist_cnn.pt\"\n",
    "    # Training settings\n",
    "    if os.path.exists(filename):\n",
    "        return\n",
    "    parser = argparse.ArgumentParser(description='PyTorch MNIST Example')\n",
    "    parser.add_argument('--batch-size', type=int, default=64, metavar='N',\n",
    "                        help='input batch size for training (default: 64)')\n",
    "    parser.add_argument('--test-batch-size', type=int, default=1000, metavar='N',\n",
    "                        help='input batch size for testing (default: 1000)')\n",
    "    parser.add_argument('--epochs', type=int, default=14, metavar='N',\n",
    "                        help='number of epochs to train (default: 14)')\n",
    "    parser.add_argument('--lr', type=float, default=1.0, metavar='LR',\n",
    "                        help='learning rate (default: 1.0)')\n",
    "    parser.add_argument('--gamma', type=float, default=0.7, metavar='M',\n",
    "                        help='Learning rate step gamma (default: 0.7)')\n",
    "    parser.add_argument('--no-cuda', action='store_true', default=False,\n",
    "                        help='disables CUDA training')\n",
    "    parser.add_argument('--seed', type=int, default=1, metavar='S',\n",
    "                        help='random seed (default: 1)')\n",
    "    parser.add_argument('--log-interval', type=int, default=10, metavar='N',\n",
    "                        help='how many batches to wait before logging training status')\n",
    "\n",
    "    parser.add_argument('--save-model', action='store_true', default=True,\n",
    "                        help='For Saving the current Model')\n",
    "    args = parser.parse_args()\n",
    "    use_cuda = not args.no_cuda and torch.cuda.is_available()\n",
    "\n",
    "    torch.manual_seed(args.seed)\n",
    "\n",
    "    device = torch.device(\"cuda\" if use_cuda else \"cpu\")\n",
    "\n",
    "    kwargs = {'num_workers': 1, 'pin_memory': True} if use_cuda else {}\n",
    "    train_loader = torch.utils.data.DataLoader(\n",
    "        datasets.MNIST('../data', train=True, download=True,\n",
    "                       transform=transforms.Compose([\n",
    "                           transforms.ToTensor(),\n",
    "                           transforms.Normalize((0.1307,), (0.3081,))\n",
    "                       ])),\n",
    "        batch_size=args.batch_size, shuffle=True, **kwargs)\n",
    "    test_loader = torch.utils.data.DataLoader(\n",
    "        datasets.MNIST(os.path.expanduser('../data'), train=False, transform=transforms.Compose([\n",
    "                           transforms.ToTensor(),\n",
    "                           transforms.Normalize((0.1307,), (0.3081,))\n",
    "                       ])),\n",
    "        batch_size=args.test_batch_size, shuffle=True, **kwargs)\n",
    "\n",
    "    model = Net().to(device)\n",
    "    optimizer = optim.Adadelta(model.parameters(), lr=args.lr)\n",
    "\n",
    "    scheduler = StepLR(optimizer, step_size=1, gamma=args.gamma)\n",
    "    for epoch in range(1, args.epochs + 1):\n",
    "        train(args, model, device, train_loader, optimizer, epoch)\n",
    "        test(args, model, device, test_loader)\n",
    "        scheduler.step()\n",
    "\n",
    "    if args.save_model:\n",
    "        torch.save(model.state_dict(), filename)\n",
    "        \n",
    "# mnist()\n",
    "\n"
   ]
  },
  {
   "cell_type": "code",
   "execution_count": 4,
   "metadata": {},
   "outputs": [],
   "source": [
    "#hide\n",
    "# Notebook specific hack\n",
    "import sys; sys.argv=['']; del sys\n",
    "mnist()"
   ]
  },
  {
   "cell_type": "code",
   "execution_count": 5,
   "metadata": {},
   "outputs": [],
   "source": [
    "#collapse\n",
    "from torch.distributions import Categorical\n",
    "from torch.nn.parameter import Parameter\n",
    "from torchvision import transforms\n",
    "\n",
    "\n",
    "\n",
    "def attack_simple(model, verbose=False):\n",
    "    dummy_input = Parameter(torch.rand(1, 1, 28, 28, requires_grad=True))\n",
    "\n",
    "    lr = 1\n",
    "    optimizer = optim.Adadelta([dummy_input], lr=lr)\n",
    "    for i in range(100):\n",
    "        output = model(dummy_input)\n",
    "        entropy = Categorical(logits = output).entropy()\n",
    "        # print(f'Entropy {entropy.item():.2f}')\n",
    "        optimizer.zero_grad()\n",
    "        entropy.backward()\n",
    "        optimizer.step()\n",
    "\n",
    "    MAX = output[0].exp().max(dim=-1)\n",
    "    pil_img = transforms.Resize((240, 240))(transforms.ToPILImage()(dummy_input[0]))\n",
    "    return (MAX.values.item() > 0.8, MAX, pil_img)\n",
    "\n",
    "def check_attack():\n",
    "    mnist_model = Net()\n",
    "    mnist_model.load_state_dict(torch.load('mnist_cnn.pt'))\n",
    "\n",
    "    success, MAX, pil_img = attack_simple(mnist_model)\n",
    "    print(f\"MNIST Model says : This is a {MAX.indices.item()} with probability {MAX.values.item() * 100:.2f}%\")\n",
    "    display(pil_img)\n",
    "    success_rate = sum(attack_simple(mnist_model)[0] for i in range(100)) / 100.\n",
    "    print(f\"Success rate {success_rate * 100: .2f}\")\n",
    "    \n",
    "# check_attack()\n"
   ]
  },
  {
   "cell_type": "code",
   "execution_count": 6,
   "metadata": {},
   "outputs": [
    {
     "name": "stdout",
     "output_type": "stream",
     "text": [
      "MNIST Model says : This is a 2 with probability 99.97%\n"
     ]
    },
    {
     "data": {
      "image/png": "[encoded data removed]",
      "text/plain": [
       "<PIL.Image.Image image mode=L size=240x240 at 0x7FC404BACE48>"
      ]
     },
     "metadata": {},
     "output_type": "display_data"
    },
    {
     "name": "stdout",
     "output_type": "stream",
     "text": [
      "Success rate  100.00\n"
     ]
    }
   ],
   "source": [
    "#hide\n",
    "check_attack()"
   ]
  },
  {
   "cell_type": "markdown",
   "metadata": {},
   "source": [
    "Then generate an random image for which the model is highly confident yet it's completely absurd. This new image is out of distribution yet the model does not know it. We want to avoid doing such mistakes in production."
   ]
  },
  {
   "cell_type": "markdown",
   "metadata": {},
   "source": [
    "## Other approaches\n"
   ]
  },
  {
   "cell_type": "markdown",
   "metadata": {},
   "source": [
    "Other out of distribution detector have been proposed. Here is a sample of methods:\n",
    "\n",
    "- [Likelihood Ratios for Out-of-Distribution Detection](https://arxiv.org/pdf/1906.02845.pdf): Propose to learn 2 distinct models, one \"raw\", one with perturbation instilled into the dataset, and look at the log likelihood ratio of the two models, claim is that the difference between the two will reflect how \"far\" input is from the semantic part of the manifold of X. $p(x) = p(x_{background})p(x_{semantic})$, the perturbation needs to lie only on $x_{semantic}$.\n",
    "- [Out-of-distribution Detection in Classifiers via Generation](https://arxiv.org/pdf/1910.04241.pdf): Propose to use autoencoder (or GANs) to generate a low dimensional representation of the manifold of the dataset X, then perturb X on that representation. Those perturbated examples are trained to become a new \"class\" of the output of the classifier. \n",
    "- [Enhancing the reliability of Out-of-Distribution Image Detection in Neural Networks (Odin)](https://arxiv.org/pdf/1706.02690.pdf): This one uses temperature scaling regarding softmax to generate perturbated input, then look at the probability of the softmax if it passes a threshold. IMO, this paper is interesting as it supposes smoothness properties on In distribution data, and less smooth for out-of-distribution. It does require some examples of out-of-distribution for fitting 3 hyperparameters (temperature, threshold and magnitude of perturbation)\n",
    "- [Your classifier is secretly an energy based model and you should treat it like one](https://openreview.net/pdf?id=Hkxzx0NtDB): This one adds a new term in the loss to estimate p(x) basically. Multiple ood detectors are proposed, the most efficient being the second derivative of p(x), claiming again that density of p(x) will change more widly in ood space, leading to a good ood detector.\n",
    "\n",
    "- [WAIC, but Why? Generative Ensembles for Robust Anomaly Detection](https://arxiv.org/pdf/1810.01392.pdf): This paper proposes to use an ensemble of models and look at WAIC criterion to detect OOD. It makes many comparison to VAE and GANs\n",
    "\n",
    "- [Learning Confidence for Out-of-Distribution Detection in Neural Networks](https://arxiv.org/pdf/1802.04865v1.pdf) : The core idea in this paper is to change the learning loss, to learn confidence as prior task to classification task, a model is allowed to see real label only when it claims it can solve the problem, outputting via another head directly a confidence score. Caveat is that the model might choose to give up and always claim confidence, and another trick is proposed to emphasize the in-distribution vs out-of-distribution by preprocessing inputs to move them towards region of higher confidence. In-distribution tends to move closer to 1 than out-of-distribution. So the direct confidence estimator seems to be *smoother* out-of-distribution than in-distribution, where peaks are more likely to be found.\n",
    "\n",
    "- [Papers with code](https://paperswithcode.com/task/out-of-distribution-detection): More links on that hopefully"
   ]
  },
  {
   "cell_type": "markdown",
   "metadata": {},
   "source": [
    "## Our approach"
   ]
  },
  {
   "cell_type": "markdown",
   "metadata": {},
   "source": [
    "> **Tl;dr : Make two similar models, with two different random initialization, then train them at the same time.\n",
    "> The ood detector will simply be the a threshold classifier on the KL-divergence between the two outputs.**\n",
    "\n",
    "The core argument for this approach is that the neural network captures the dataset manifold (which means it will produce \"regular\" outputs for in dataset items). For the range of possible values it has random values for a random initialization. If that is true, then we train the model, we shift it's output only on the dataset manifold, and not anywhere else. If that assumption is correct, then the 2 models have very low probability of concurring in their output outside of the manifold if they have been initialized differently.\n",
    "\n",
    "It's quite close to WAIC, *but* the two models need to be trained at the same time. The argument is that is should align gradients during the training phase, leading to more correlation for in-dataset prediction for the models. The argument for this supposes that the lottery ticket hypothesis is true, and adds that lottery ticket is unique (or at least that the class of lottery tickets is very thin, and they all highly correlate to each other). If this is true, then the gradients within the network that correspond to this lottery ticket winner in *both* networks should be the same (or highly correlated).\n",
    "\n",
    "In order to fix the threshold, we found that simply setting it to be 10x the average kl-divergence obtained on the train dataset worked pretty well. As kl divergence is measured in bits, 10x is a quite large margin. More work could be done to study more closely the behaviour of this self kl-divergence."
   ]
  },
  {
   "cell_type": "markdown",
   "metadata": {},
   "source": [
    "## Experiments"
   ]
  },
  {
   "cell_type": "markdown",
   "metadata": {},
   "source": [
    "### Experiment 1\n",
    "\n",
    "MNIST attack like failure presented before.\n",
    "\n",
    "\n"
   ]
  },
  {
   "cell_type": "code",
   "execution_count": 6,
   "metadata": {},
   "outputs": [],
   "source": [
    "class MultiNet(nn.Module):\n",
    "    def __init__(self, *models):\n",
    "        super().__init__()\n",
    "        self.models = nn.ModuleList(models)\n",
    "        \n",
    "    def forward(self, x):\n",
    "        return [model(x) for model in self.models]\n",
    "\n",
    "    \n",
    "def train_multi(args, model, device, train_loader, optimizer, epoch):\n",
    "    model.train()\n",
    "    for batch_idx, (data, target) in enumerate(train_loader):\n",
    "        data, target = data.to(device), target.to(device)\n",
    "        optimizer.zero_grad()\n",
    "        outputs = model(data)\n",
    "        loss = sum(F.nll_loss(output, target) for output in outputs)\n",
    "        loss.backward()\n",
    "        optimizer.step()\n",
    "        if batch_idx % args.log_interval == 0:\n",
    "            print('Train Epoch: {} [{}/{} ({:.0f}%)]\\tLoss: {:.6f}'.format(\n",
    "                epoch, batch_idx * len(data), len(train_loader.dataset),\n",
    "                100. * batch_idx / len(train_loader), loss.item()))\n",
    "\n",
    "\n",
    "def test_multi(args, model, device, test_loader):\n",
    "    model.eval()\n",
    "    test_loss = 0\n",
    "    correct = 0\n",
    "    with torch.no_grad():\n",
    "        for data, target in test_loader:\n",
    "            data, target = data.to(device), target.to(device)\n",
    "            outputs = model(data)\n",
    "            test_loss += sum(F.nll_loss(output, target, reduction='sum').item() for output in outputs)\n",
    "            pred = outputs[0].argmax(dim=1, keepdim=True)  # get the index of the max log-probability\n",
    "            correct += pred.eq(target.view_as(pred)).sum().item()\n",
    "\n",
    "    test_loss /= len(test_loader.dataset)\n",
    "\n",
    "    print('\\nTest set: Average loss: {:.4f}, Accuracy: {}/{} ({:.0f}%)\\n'.format(\n",
    "        test_loss, correct, len(test_loader.dataset),\n",
    "        100. * correct / len(test_loader.dataset)))\n",
    "\n",
    "\n",
    "def mnist_multi():\n",
    "    # Training settings\n",
    "    filename = \"mnist_multi_cnn.pt\"\n",
    "    if os.path.exists(filename):\n",
    "        return\n",
    "    parser = argparse.ArgumentParser(description='PyTorch MNIST Example')\n",
    "    parser.add_argument('--batch-size', type=int, default=64, metavar='N',\n",
    "                        help='input batch size for training (default: 64)')\n",
    "    parser.add_argument('--test-batch-size', type=int, default=1000, metavar='N',\n",
    "                        help='input batch size for testing (default: 1000)')\n",
    "    parser.add_argument('--epochs', type=int, default=14, metavar='N',\n",
    "                        help='number of epochs to train (default: 14)')\n",
    "    parser.add_argument('--lr', type=float, default=1.0, metavar='LR',\n",
    "                        help='learning rate (default: 1.0)')\n",
    "    parser.add_argument('--gamma', type=float, default=0.7, metavar='M',\n",
    "                        help='Learning rate step gamma (default: 0.7)')\n",
    "    parser.add_argument('--no-cuda', action='store_true', default=False,\n",
    "                        help='disables CUDA training')\n",
    "    parser.add_argument('--seed', type=int, default=1, metavar='S',\n",
    "                        help='random seed (default: 1)')\n",
    "    parser.add_argument('--log-interval', type=int, default=10, metavar='N',\n",
    "                        help='how many batches to wait before logging training status')\n",
    "\n",
    "    parser.add_argument('--save-model', action='store_true', default=True,\n",
    "                        help='For Saving the current Model')\n",
    "    args = parser.parse_args()\n",
    "    use_cuda = not args.no_cuda and torch.cuda.is_available()\n",
    "\n",
    "    torch.manual_seed(args.seed)\n",
    "\n",
    "    device = torch.device(\"cuda\" if use_cuda else \"cpu\")\n",
    "\n",
    "    kwargs = {'num_workers': 1, 'pin_memory': True} if use_cuda else {}\n",
    "    train_loader = torch.utils.data.DataLoader(\n",
    "        datasets.MNIST('../data', train=True, download=True,\n",
    "                       transform=transforms.Compose([\n",
    "                           transforms.ToTensor(),\n",
    "                           transforms.Normalize((0.1307,), (0.3081,))\n",
    "                       ])),\n",
    "        batch_size=args.batch_size, shuffle=True, **kwargs)\n",
    "    test_loader = torch.utils.data.DataLoader(\n",
    "        datasets.MNIST(os.path.expanduser('../data'), train=False, transform=transforms.Compose([\n",
    "                           transforms.ToTensor(),\n",
    "                           transforms.Normalize((0.1307,), (0.3081,))\n",
    "                       ])),\n",
    "        batch_size=args.test_batch_size, shuffle=True, **kwargs)\n",
    "\n",
    "    model1 = Net()\n",
    "    model2 = Net()\n",
    "    model = MultiNet(model1, model2).to(device)\n",
    "\n",
    "    optimizer = optim.Adadelta(model.parameters(), lr=args.lr)\n",
    "\n",
    "    scheduler = StepLR(optimizer, step_size=1, gamma=args.gamma)\n",
    "    for epoch in range(1, args.epochs + 1):\n",
    "        train_multi(args, model, device, train_loader, optimizer, epoch)\n",
    "        test_multi(args, model, device, test_loader)\n",
    "        scheduler.step()\n",
    "\n",
    "    if args.save_model:\n",
    "        torch.save(model.state_dict(), filename)\n",
    "        \n",
    "\n",
    "# mnist_multi()"
   ]
  },
  {
   "cell_type": "code",
   "execution_count": 7,
   "metadata": {},
   "outputs": [],
   "source": [
    "#hide\n",
    "# Notebook specific hack\n",
    "import sys; sys.argv=['']; del sys\n",
    "mnist_multi()"
   ]
  },
  {
   "cell_type": "code",
   "execution_count": 8,
   "metadata": {},
   "outputs": [],
   "source": [
    "from torchvision import datasets\n",
    "def kl(model, device, test_loader):\n",
    "    model.eval()\n",
    "    test_loss = 0\n",
    "    with torch.no_grad():\n",
    "        for data, target in test_loader:\n",
    "            data, target = data.to(device), target.to(device)\n",
    "            outputs = model(data)\n",
    "            \n",
    "            loss = 0\n",
    "            n = 0\n",
    "            for i in range(len(outputs) - 1):\n",
    "                for j in range(i + 1, len(outputs)):\n",
    "                    n += 1\n",
    "                    loss += 1/2 * (F.kl_div(outputs[i], outputs[j].exp(), reduction='sum').item() + F.kl_div(outputs[j], outputs[i].exp(), reduction='sum').item())\n",
    "                    \n",
    "            loss /= n\n",
    "            test_loss += loss\n",
    "\n",
    "\n",
    "    test_loss /= len(test_loader.dataset)\n",
    "\n",
    "    print('\\nTest set: Average loss: {:.4f}, len {} \\n'.format(\n",
    "        test_loss, len(test_loader.dataset)))\n",
    "    return test_loss\n",
    "\n",
    "def get_reference_kl():\n",
    "    multi_model = MultiNet(Net(), Net())\n",
    "    multi_model.load_state_dict(torch.load('mnist_multi_cnn.pt'))\n",
    "\n",
    "\n",
    "    test_loader = torch.utils.data.DataLoader(\n",
    "            datasets.MNIST(os.path.expanduser('../data'), train=False, transform=transforms.Compose([\n",
    "                               transforms.ToTensor(),\n",
    "                               transforms.Normalize((0.1307,), (0.3081,))\n",
    "                           ])),\n",
    "            batch_size=1000, shuffle=True)\n",
    "    return kl(multi_model, device='cpu', test_loader=test_loader)\n",
    "\n",
    "# ref_kl_loss = get_reference_kl()\n",
    "    "
   ]
  },
  {
   "cell_type": "code",
   "execution_count": 11,
   "metadata": {},
   "outputs": [
    {
     "name": "stdout",
     "output_type": "stream",
     "text": [
      "\n",
      "Test set: Average loss: 0.0069, len 10000 \n",
      "\n"
     ]
    }
   ],
   "source": [
    "#hide\n",
    "ref_kl_loss = get_reference_kl()\n"
   ]
  },
  {
   "cell_type": "markdown",
   "metadata": {},
   "source": [
    "Now we have 2 models capable of detecting digits, we have instantly 3 checks for checking if the output of our model is valid. The 2 models need to be concording (they need to outputs the same digit as an output), they need to have similar kl-divergence, we actually have a reference for the test set, so we know what kind of divergence we should look for, anything 10x more is definitely ood (we could look at the test set distribution for more fine grain estimation). Because kl divergence is asymetric we have 2 values (it's harder for spiked distribution to have another distribution be close in the kl sense, so taking the max of kl-divergence should be used for out-of-distribution.\n"
   ]
  },
  {
   "cell_type": "code",
   "execution_count": 9,
   "metadata": {},
   "outputs": [],
   "source": [
    "#collapse\n",
    "from torch.distributions import Categorical\n",
    "from torch.nn.parameter import Parameter\n",
    "from torchvision import transforms\n",
    "\n",
    "def attack(loss_fn, verbose=True, n=100, lr=1):\n",
    "    multi_model = MultiNet(Net(), Net())\n",
    "    multi_model.load_state_dict(torch.load('mnist_multi_cnn.pt'))\n",
    "\n",
    "    dummy_input = Parameter(torch.rand(1, 1, 28, 28, requires_grad=True))\n",
    "\n",
    "    optimizer = optim.Adadelta([dummy_input], lr=lr)\n",
    "    for i in range(n):\n",
    "        outputs = multi_model(dummy_input)\n",
    "        \n",
    "        loss = loss_fn(outputs)\n",
    "        # print(f'Entropy {entropy.item():.2f}')\n",
    "        optimizer.zero_grad()\n",
    "        loss.backward()\n",
    "        optimizer.step()\n",
    "\n",
    "    MAX1 = outputs[0][0].exp().max(dim=-1)\n",
    "    MAX2 = outputs[1][0].exp().max(dim=-1)\n",
    "\n",
    "    kl_loss = F.kl_div(outputs[0], outputs[1].exp(), reduction='batchmean')\n",
    "    kl_loss2 = F.kl_div(outputs[1], outputs[0].exp(), reduction='batchmean')\n",
    "\n",
    "    if (kl_loss / ref_kl_loss) > 10 or kl_loss2 / ref_kl_loss > 10 or MAX1.indices.item() != MAX2.indices.item():\n",
    "        success = False\n",
    "    else:\n",
    "        success = MAX1.values.item() > 0.8 and MAX2.values.item() > 0.8\n",
    "    if verbose:\n",
    "        print(f\"MNIST Model says : This is a {MAX1.indices.item()} with probability {MAX1.values.item() * 100:.2f}%\")\n",
    "        print(f\"MNIST Model 2 says : This is a {MAX2.indices.item()} with probability {MAX2.values.item() * 100:.2f}%\")\n",
    "\n",
    "        print(f\"KL-divergence is {kl_loss / ref_kl_loss} {kl_loss2 / ref_kl_loss}\")\n",
    "\n",
    "        if success:\n",
    "            print(\"ATTACK SUCCEEDED\")\n",
    "        else:\n",
    "            print(\"ATTACK FAILED\")\n",
    "        pil_img = transforms.Resize((240, 240))(transforms.ToPILImage()(dummy_input[0]))\n",
    "        display(pil_img)\n",
    "    return success\n",
    "        \n",
    "        \n",
    "  \n"
   ]
  },
  {
   "cell_type": "markdown",
   "metadata": {},
   "source": [
    "Now if we simply attack the first model like we did earlier, we can see that we can trick it as easily as before. *BUT* the second model, does not get attacked which is to be expected."
   ]
  },
  {
   "cell_type": "code",
   "execution_count": 12,
   "metadata": {},
   "outputs": [
    {
     "name": "stdout",
     "output_type": "stream",
     "text": [
      "MNIST Model says : This is a 3 with probability 99.32%\n",
      "MNIST Model 2 says : This is a 3 with probability 33.50%\n",
      "KL-divergence is 587.7392578125 152.96902465820312\n",
      "ATTACK FAILED\n"
     ]
    },
    {
     "data": {
      "image/png": "[encoded data removed]",
      "text/plain": [
       "<PIL.Image.Image image mode=L size=240x240 at 0x7FD482EB9DA0>"
      ]
     },
     "metadata": {},
     "output_type": "display_data"
    }
   ],
   "source": [
    "def loss(outputs):\n",
    "    entropy = Categorical(logits = outputs[0]).entropy()\n",
    "    \n",
    "    loss = entropy\n",
    "    return loss\n",
    "\n",
    "_ = attack(loss)\n"
   ]
  },
  {
   "cell_type": "markdown",
   "metadata": {},
   "source": [
    "Even if we try a smarter and attack __both__ models at the same time, we can't succeed at a consistent rate. Be warned, it will succeed sometimes, just not consistently."
   ]
  },
  {
   "cell_type": "code",
   "execution_count": 11,
   "metadata": {},
   "outputs": [
    {
     "name": "stdout",
     "output_type": "stream",
     "text": [
      "MNIST Model says : This is a 1 with probability 11.50%\n",
      "MNIST Model 2 says : This is a 7 with probability 11.48%\n",
      "KL-divergence is 0.474844753742218 0.47643253207206726\n",
      "ATTACK FAILED\n"
     ]
    },
    {
     "data": {
      "image/png": "[encoded data removed]",
      "text/plain": [
       "<PIL.Image.Image image mode=L size=240x240 at 0x7F83D47335F8>"
      ]
     },
     "metadata": {},
     "output_type": "display_data"
    }
   ],
   "source": [
    "def loss(outputs):\n",
    "    entropy1 = Categorical(logits = outputs[0]).entropy()\n",
    "    entropy2 = Categorical(logits = outputs[1]).entropy()\n",
    "\n",
    "    kl_loss1 = F.kl_div(outputs[0], outputs[1].exp(), reduction='batchmean')\n",
    "    kl_loss2 = F.kl_div(outputs[1], outputs[0].exp(), reduction='batchmean')\n",
    "\n",
    "    distance = F.mse_loss(outputs[0], outputs[1])\n",
    "\n",
    "    loss = entropy1 + entropy2  + kl_loss1 + kl_loss2 + distance\n",
    "    return loss\n",
    "    \n",
    "_ = attack(loss)\n",
    "    "
   ]
  },
  {
   "cell_type": "markdown",
   "metadata": {},
   "source": [
    "Be warned, it will succeed sometimes, just not consistently. For comparison, the first attack succeeds with close to 100% (we couldn't make it fail). Actually because we have 10 classes, and if we supposed out-of-distribution probability distribution is uniformly random, it should be something close to 10%, when our initial random image finds a place where the 2 models intersect on the same digit. "
   ]
  },
  {
   "cell_type": "code",
   "execution_count": 12,
   "metadata": {},
   "outputs": [],
   "source": [
    "def loss(outputs):\n",
    "    entropy1 = Categorical(logits = outputs[0]).entropy()\n",
    "    entropy2 = Categorical(logits = outputs[1]).entropy()\n",
    "\n",
    "    kl_loss1 = F.kl_div(outputs[0], outputs[1].exp(), reduction='batchmean')\n",
    "    kl_loss2 = F.kl_div(outputs[1], outputs[0].exp(), reduction='batchmean')\n",
    "\n",
    "    distance = F.mse_loss(outputs[0], outputs[1])\n",
    "\n",
    "    loss = entropy1 + entropy2  + kl_loss1 + kl_loss2 + distance\n",
    "    return loss\n",
    "    \n",
    "def attack_rate():\n",
    "    attacks = []\n",
    "    for i in range(100):\n",
    "        success = attack(loss, verbose=False, n=200, lr=0.1)\n",
    "        if success:\n",
    "            print(\"F\", end='')\n",
    "        else:\n",
    "            print(\".\", end='')\n",
    "        attacks.append(success)\n",
    "\n",
    "    print('')\n",
    "    print(f\"Attack success rate {sum(attacks)/len(attacks) * 100:.2f}%\")\n",
    "\n",
    "# attack_rate()\n",
    "    "
   ]
  },
  {
   "cell_type": "code",
   "execution_count": null,
   "metadata": {},
   "outputs": [],
   "source": [
    "#hide\n",
    "attack_rate()"
   ]
  },
  {
   "cell_type": "markdown",
   "metadata": {},
   "source": [
    "The actual attack range seems to stagnate at around 0% (30% if we remove the confidence rate > 80%) with various learning rates and attack steps. There probably are better strategies to attack, this, but the main point is that it became __harder__."
   ]
  },
  {
   "cell_type": "markdown",
   "metadata": {},
   "source": [
    "### Experiment 2\n",
    "\n",
    "Now let's test this on common ood detection for classic datasets. We will add ood detection for the train dataset, just to check that we don't *exclude* too much of the original dataset. Datasets used will be MNIST, FashionMNIST"
   ]
  },
  {
   "cell_type": "code",
   "execution_count": 9,
   "metadata": {},
   "outputs": [],
   "source": [
    "#collapse\n",
    "from torchvision.datasets import MNIST, Omniglot, FashionMNIST\n",
    "from torchvision import transforms\n",
    "import os\n",
    "\n",
    "\n",
    "def dataset_multi(dataset_cls, filename, model, transform):\n",
    "    # Training settings\n",
    "    parser = argparse.ArgumentParser(description='PyTorch MNIST Example')\n",
    "    parser.add_argument('--batch-size', type=int, default=64, metavar='N',\n",
    "                        help='input batch size for training (default: 64)')\n",
    "    parser.add_argument('--test-batch-size', type=int, default=1000, metavar='N',\n",
    "                        help='input batch size for testing (default: 1000)')\n",
    "    parser.add_argument('--epochs', type=int, default=14, metavar='N',\n",
    "                        help='number of epochs to train (default: 14)')\n",
    "    parser.add_argument('--lr', type=float, default=1e-2, metavar='LR',\n",
    "                        help='learning rate (default: 1.0)')\n",
    "    parser.add_argument('--gamma', type=float, default=0.7, metavar='M',\n",
    "                        help='Learning rate step gamma (default: 0.7)')\n",
    "    parser.add_argument('--no-cuda', action='store_true', default=False,\n",
    "                        help='disables CUDA training')\n",
    "    parser.add_argument('--seed', type=int, default=1, metavar='S',\n",
    "                        help='random seed (default: 1)')\n",
    "    parser.add_argument('--log-interval', type=int, default=10, metavar='N',\n",
    "                        help='how many batches to wait before logging training status')\n",
    "\n",
    "    parser.add_argument('--save-model', action='store_true', default=True,\n",
    "                        help='For Saving the current Model')\n",
    "    args = parser.parse_args()\n",
    "    use_cuda = not args.no_cuda and torch.cuda.is_available()\n",
    "\n",
    "    torch.manual_seed(args.seed)\n",
    "\n",
    "    device = torch.device(\"cuda\" if use_cuda else \"cpu\")\n",
    "\n",
    "    kwargs = {'num_workers': 1, 'pin_memory': True} if use_cuda else {}\n",
    "    train_loader = torch.utils.data.DataLoader(\n",
    "        dataset_cls('../data', train=True, download=True,\n",
    "                       transform=transform),\n",
    "        batch_size=args.batch_size, shuffle=True, **kwargs)\n",
    "    test_loader = torch.utils.data.DataLoader(\n",
    "                dataset_cls('../data', train=False, download=True,\n",
    "                               transform=transform), batch_size = args.test_batch_size)\n",
    "\n",
    "\n",
    "\n",
    "    optimizer = optim.Adam(model.parameters(), lr=args.lr)\n",
    "    scheduler = optim.lr_scheduler.CyclicLR(                             \n",
    "          optimizer, base_lr=0, max_lr=args.lr, cycle_momentum=False, step_size_up=200                    )\n",
    "    for epoch in range(1, args.epochs + 1):\n",
    "        train_multi(args, model, device, train_loader, optimizer, epoch)\n",
    "        test_multi(args, model, device, test_loader)\n",
    "        scheduler.step()\n",
    "\n",
    "    if args.save_model:\n",
    "        torch.save(model.state_dict(), filename)\n",
    "\n",
    "\n",
    "def run_datasets(create_model, suffix):\n",
    "    datasets = [MNIST, FashionMNIST]\n",
    "\n",
    "    device = torch.device(\"cuda\" if torch.cuda.is_available() else \"cpu\")\n",
    "\n",
    "    for dataset_cls in datasets:\n",
    "        filename = f'{dataset_cls.__name__}{suffix}.pt'\n",
    "\n",
    "        if os.path.exists(filename):\n",
    "            continue\n",
    "\n",
    "        model = create_model().to(device)\n",
    "\n",
    "        transform = transforms.Compose([\n",
    "                                   transforms.ToTensor(),\n",
    "                                   transforms.Normalize((0.1307,), (0.3081,))\n",
    "                                    ])\n",
    "        dataset_multi(dataset_cls, filename, model, transform)\n",
    "\n",
    "        \n",
    "def create_model():\n",
    "    model1 = Net()\n",
    "    model2 = Net()\n",
    "    model = MultiNet(model1, model2)\n",
    "    return model\n",
    "\n",
    "# run_datasets(create_model, suffix='')\n"
   ]
  },
  {
   "cell_type": "code",
   "execution_count": 10,
   "metadata": {},
   "outputs": [],
   "source": [
    "#hide\n",
    "# Notebook specific hack\n",
    "import sys; sys.argv=['']; del sys\n",
    "run_datasets(create_model, suffix='')\n"
   ]
  },
  {
   "cell_type": "code",
   "execution_count": 11,
   "metadata": {},
   "outputs": [],
   "source": [
    "from sklearn.metrics import roc_auc_score"
   ]
  },
  {
   "cell_type": "code",
   "execution_count": 12,
   "metadata": {},
   "outputs": [],
   "source": [
    "def test_datasets(model_arch, suffix):\n",
    "    datasets = [MNIST, FashionMNIST]\n",
    "\n",
    "    batch_size = 500\n",
    "    device = 'cuda' if torch.cuda.is_available() else 'cpu'\n",
    "    \n",
    "    for dataset_cls in datasets:\n",
    "        filename = f'{dataset_cls.__name__}{suffix}.pt'\n",
    "        model_arch.load_state_dict(torch.load(filename))\n",
    "\n",
    "        model = model_arch\n",
    "        test_loader = torch.utils.data.DataLoader(\n",
    "                dataset_cls('../data', train=False, download=True,\n",
    "                               transform=transforms.Compose([\n",
    "                                   transforms.ToTensor(),\n",
    "                                   transforms.Normalize((0.1307,), (0.3081,))\n",
    "             ])), batch_size=batch_size)\n",
    "        ref_kl_loss = kl(model, device, test_loader)\n",
    "        print(\"Ref loss\", ref_kl_loss)\n",
    "        \n",
    "        all_labels = []\n",
    "        all_scores = []\n",
    "        for dataset_cls2 in datasets:\n",
    "            test_loader2 = torch.utils.data.DataLoader(\n",
    "                dataset_cls2('../data', train=False, download=True,\n",
    "                               transform=transforms.Compose([\n",
    "                                   transforms.ToTensor(),\n",
    "                                   transforms.Normalize((0.1307,), (0.3081,))\n",
    "             ])),batch_size=batch_size, shuffle=True)\n",
    "            \n",
    "            \n",
    "            OOD = 0\n",
    "            for data, target in test_loader2:\n",
    "                outputs = model(data.to(device))\n",
    "                kl_loss = torch.max(F.kl_div(outputs[0], outputs[1].exp(), reduction='none'),  F.kl_div(outputs[1], outputs[0].exp(), reduction='none'))\n",
    "                kl_loss = kl_loss.sum(dim=-1)\n",
    "                \n",
    "                similar = outputs[0].argmax(dim=-1) == outputs[1].argmax(dim=-1)\n",
    "                \n",
    "                normed = kl_loss / ref_kl_loss\n",
    "                \n",
    "                kl_anomaly = normed > 10\n",
    "                non_concordant = similar == False\n",
    "                \n",
    "                out_of_distrib = sum(kl_anomaly | non_concordant)\n",
    "                \n",
    "                N = normed.shape[0]\n",
    "                boolean = dataset_cls2 != dataset_cls\n",
    "                all_labels.extend([boolean] * N)\n",
    "                all_scores.extend(normed.tolist())\n",
    "                \n",
    "                \n",
    "                OOD += out_of_distrib\n",
    "            print(f\"Trained on {dataset_cls.__name__} we detected on {dataset_cls2.__name__} {OOD}/{len(test_loader2.dataset)} ({float(OOD)/len(test_loader2.dataset) * 100:.2f}%) out of distribution\")\n",
    "                   \n",
    "        auc = roc_auc_score(all_labels, all_scores)\n",
    "        print(f\"AUC for {dataset_cls.__name__} : {auc}\")\n",
    "\n",
    "def exp_2():\n",
    "    device = torch.device('cuda' if torch.cuda.is_available() else 'cpu')\n",
    "    model = MultiNet(Net(), Net()).to(device)\n",
    "    test_datasets(model, suffix='')\n",
    "    \n",
    "# exp_2()"
   ]
  },
  {
   "cell_type": "code",
   "execution_count": 19,
   "metadata": {},
   "outputs": [
    {
     "name": "stdout",
     "output_type": "stream",
     "text": [
      "\n",
      "Test set: Average loss: 0.0204, len 10000 \n",
      "\n",
      "Ref loss 0.0204180196672678\n",
      "Trained on MNIST we detected on MNIST 350/10000 (3.50%) out of distribution\n",
      "Trained on MNIST we detected on FashionMNIST 7334/10000 (73.34%) out of distribution\n",
      "AUC for MNIST : 0.9692911949999999\n",
      "\n",
      "Test set: Average loss: 0.0490, len 10000 \n",
      "\n",
      "Ref loss 0.0490430459022522\n",
      "Trained on FashionMNIST we detected on MNIST 6141/10000 (61.41%) out of distribution\n",
      "Trained on FashionMNIST we detected on FashionMNIST 1040/10000 (10.40%) out of distribution\n",
      "AUC for FashionMNIST : 0.8571711399999999\n"
     ]
    }
   ],
   "source": [
    "#hide\n",
    "exp_2()"
   ]
  },
  {
   "cell_type": "markdown",
   "metadata": {},
   "source": [
    "So we can see that we achieve, with no tuning whatsoever a decent out of distribution detector. We seem to achieve much better AUROC on MNIST, probably because the in-distribution learning seems to be much better (99% test accuracy vs 92% for fastionMNIST). So to False positives for fashionMNIST probably come from this hard to learn in-distribution. Some fine tuning needs to be done to get better results. We also have to keep in mind, that the models to learn this are quite small (2M parameters but only 2 convolution layers) so the lottery hypothesis validity for such a network might be questionned."
   ]
  },
  {
   "cell_type": "markdown",
   "metadata": {},
   "source": [
    "### Experiment 2 bis\n",
    "\n",
    "Same experiment but with fine tuned, larger networks on the same datasets "
   ]
  },
  {
   "cell_type": "code",
   "execution_count": 13,
   "metadata": {},
   "outputs": [],
   "source": [
    "from torchvision.models.resnet import ResNet, BasicBlock\n",
    "class MnistResNet(ResNet):\n",
    "    def __init__(self):\n",
    "        super(MnistResNet, self).__init__(BasicBlock, [2, 2, 2, 2], num_classes=10)\n",
    "        self.conv1 = torch.nn.Conv2d(1, 64, kernel_size=(7, 7), stride=(2, 2), padding=(3, 3), bias=False)\n",
    "        \n",
    "    def forward(self, x):\n",
    "        return F.log_softmax(super(MnistResNet, self).forward(x), dim=-1)\n",
    "\n",
    "def run_datasets_res():\n",
    "    datasets = [MNIST, FashionMNIST]\n",
    "    device = torch.device(\"cuda\" if torch.cuda.is_available() else \"cpu\")\n",
    "\n",
    "    for dataset_cls in datasets:\n",
    "        filename = f'{dataset_cls.__name__}_resnet.pt'\n",
    "\n",
    "        if os.path.exists(filename):\n",
    "            continue\n",
    "            \n",
    "        \n",
    "        multi_res = MultiNet(MnistResNet(), MnistResNet()).to(device)\n",
    "        \n",
    "        transform = transforms.Compose([ transforms.Resize((224, 224)),transforms.ToTensor(), transforms.Normalize((0.1307,), (0.3081,))])\n",
    "\n",
    "        dataset_multi(dataset_cls, filename, multi_res, transform)\n",
    "        \n",
    "def test_datasets_bis(model_arch):\n",
    "    datasets = [MNIST, FashionMNIST]\n",
    "\n",
    "    batch_size = 10\n",
    "    device = 'cuda' if torch.cuda.is_available() else 'cpu'\n",
    "    \n",
    "    for dataset_cls in datasets:\n",
    "        filename = f'{dataset_cls.__name__}_resnet.pt'\n",
    "        model_arch.load_state_dict(torch.load(filename))\n",
    "\n",
    "        model = model_arch\n",
    "        test_loader = torch.utils.data.DataLoader(\n",
    "                dataset_cls('../data', train=False, download=True,\n",
    "                               transform=transforms.Compose([\n",
    "                                   transforms.Resize((224, 224)),\n",
    "                                   transforms.ToTensor(),\n",
    "                                   transforms.Normalize((0.1307,), (0.3081,))\n",
    "             ])), batch_size=batch_size)\n",
    "        ref_kl_loss = kl(model, device, test_loader)\n",
    "        print(\"Ref loss\", ref_kl_loss)\n",
    "        \n",
    "        all_labels = []\n",
    "        all_scores = []\n",
    "        for dataset_cls2 in datasets:\n",
    "            test_loader2 = torch.utils.data.DataLoader(\n",
    "                dataset_cls2('../data', train=False, download=True,\n",
    "                               transform=transforms.Compose([\n",
    "                                   transforms.Resize((224, 224)),\n",
    "                                   transforms.ToTensor(),\n",
    "                                   transforms.Normalize((0.1307,), (0.3081,))\n",
    "             ])),batch_size=batch_size, shuffle=True)\n",
    "            \n",
    "            \n",
    "            OOD = 0\n",
    "            for data, target in test_loader2:\n",
    "                outputs = model(data.to(device))\n",
    "                kl_loss = torch.max(F.kl_div(outputs[0], outputs[1].exp(), reduction='none'),  F.kl_div(outputs[1], outputs[0].exp(), reduction='none'))\n",
    "                kl_loss = kl_loss.sum(dim=-1)\n",
    "                \n",
    "                similar = outputs[0].argmax(dim=-1) == outputs[1].argmax(dim=-1)\n",
    "                \n",
    "                normed = kl_loss / ref_kl_loss\n",
    "                \n",
    "                kl_anomaly = normed > 10\n",
    "                non_concordant = similar == False\n",
    "                \n",
    "                out_of_distrib = sum(kl_anomaly | non_concordant)\n",
    "                \n",
    "                N = normed.shape[0]\n",
    "                boolean = dataset_cls2 != dataset_cls\n",
    "                all_labels.extend([boolean] * N)\n",
    "                all_scores.extend(normed.tolist())\n",
    "                \n",
    "                \n",
    "                OOD += out_of_distrib\n",
    "            print(f\"Trained on {dataset_cls.__name__} we detected on {dataset_cls2.__name__} {OOD}/{len(test_loader2.dataset)} ({float(OOD)/len(test_loader2.dataset) * 100:.2f}%) out of distribution\")\n",
    "                   \n",
    "        auc = roc_auc_score(all_labels, all_scores)\n",
    "        print(f\"AUC for {dataset_cls.__name__} : {auc}\")\n",
    "\n",
    "        \n",
    "def exp_2_bis():\n",
    "    device = torch.device('cuda' if torch.cuda.is_available() else 'cpu')\n",
    "    multi_res = MultiNet(MnistResNet(), MnistResNet()).to(device)\n",
    "    test_datasets_bis(multi_res)\n",
    "\n",
    "# run_datasets_res()\n",
    "# exp_2_bis()\n"
   ]
  },
  {
   "cell_type": "code",
   "execution_count": 25,
   "metadata": {},
   "outputs": [],
   "source": [
    "#hide\n",
    "# Notebook specific hack\n",
    "import sys; sys.argv=['--batch-size=16', '--test-batch-size=250']; del sys\n",
    "run_datasets_res()\n",
    "\n"
   ]
  },
  {
   "cell_type": "code",
   "execution_count": 15,
   "metadata": {},
   "outputs": [
    {
     "name": "stdout",
     "output_type": "stream",
     "text": [
      "\n",
      "Test set: Average loss: 0.0286, len 10000 \n",
      "\n",
      "Ref loss 0.02861522503466085\n",
      "Trained on MNIST we detected on MNIST 342/10000 (3.42%) out of distribution\n",
      "Trained on MNIST we detected on FashionMNIST 9416/10000 (94.16%) out of distribution\n",
      "AUC for MNIST : 0.9919594199999999\n",
      "\n",
      "Test set: Average loss: 0.1100, len 10000 \n",
      "\n",
      "Ref loss 0.10995317642445443\n",
      "Trained on FashionMNIST we detected on MNIST 8693/10000 (86.93%) out of distribution\n",
      "Trained on FashionMNIST we detected on FashionMNIST 812/10000 (8.12%) out of distribution\n",
      "AUC for FashionMNIST : 0.96639897\n"
     ]
    }
   ],
   "source": [
    "#hide\n",
    "exp_2_bis()"
   ]
  },
  {
   "cell_type": "markdown",
   "metadata": {},
   "source": [
    "### Experiment 3\n",
    "\n",
    "Check that two identical networks (same initalization) actually don't work. It's just a sanity check. We should obtain always kl_div = 0 no matter where we are in the input space."
   ]
  },
  {
   "cell_type": "code",
   "execution_count": 16,
   "metadata": {},
   "outputs": [],
   "source": [
    "def create_same_model():\n",
    "    model1 = Net()\n",
    "    model = MultiNet(model1, model1)\n",
    "    return model\n",
    "\n",
    "def exp_3():\n",
    "    device = torch.device('cuda' if torch.cuda.is_available() else 'cpu')\n",
    "\n",
    "    run_datasets(create_same_model, suffix='_exp3')\n",
    "        \n",
    "    test_datasets(create_same_model().to(device), suffix='_exp3')\n",
    "    \n",
    "# exp_3()"
   ]
  },
  {
   "cell_type": "code",
   "execution_count": 29,
   "metadata": {},
   "outputs": [
    {
     "name": "stdout",
     "output_type": "stream",
     "text": [
      "\n",
      "Test set: Average loss: -0.0000, len 10000 \n",
      "\n",
      "Ref loss -5.8904380694002614e-09\n",
      "Trained on MNIST we detected on MNIST 936/10000 (9.36%) out of distribution\n",
      "Trained on MNIST we detected on FashionMNIST 1036/10000 (10.36%) out of distribution\n",
      "AUC for MNIST : 0.6250013000000001\n",
      "\n",
      "Test set: Average loss: -0.0000, len 10000 \n",
      "\n",
      "Ref loss -1.0612055575620616e-08\n",
      "Trained on FashionMNIST we detected on MNIST 4/10000 (0.04%) out of distribution\n",
      "Trained on FashionMNIST we detected on FashionMNIST 1/10000 (0.01%) out of distribution\n",
      "AUC for FashionMNIST : 0.555029875\n"
     ]
    }
   ],
   "source": [
    "#hide\n",
    "exp_3()"
   ]
  },
  {
   "cell_type": "markdown",
   "metadata": {},
   "source": [
    "### Experiment 4\n",
    "\n",
    "Run this method with 2, 3, 4, and so on models. We should get exponential improved accuracy, if the random behavious for out-of-distribution for models is correct."
   ]
  },
  {
   "cell_type": "code",
   "execution_count": 23,
   "metadata": {},
   "outputs": [],
   "source": [
    "def create_n_model(n):\n",
    "    models = [Net() for i in range(n)]\n",
    "    model = MultiNet(*models)\n",
    "    return model\n",
    "\n",
    "def test_datasets_4(model_arch, suffix):\n",
    "    datasets = [MNIST, FashionMNIST]\n",
    "\n",
    "    batch_size = 100\n",
    "    device = 'cuda' if torch.cuda.is_available() else 'cpu'\n",
    "    \n",
    "    for dataset_cls in datasets:\n",
    "        filename = f'{dataset_cls.__name__}{suffix}.pt'\n",
    "        model_arch.load_state_dict(torch.load(filename))\n",
    "\n",
    "        model = model_arch\n",
    "        test_loader = torch.utils.data.DataLoader(\n",
    "                dataset_cls('../data', train=False, download=True,\n",
    "                               transform=transforms.Compose([\n",
    "                                   transforms.ToTensor(),\n",
    "                                   transforms.Normalize((0.1307,), (0.3081,))\n",
    "             ])), batch_size=batch_size)\n",
    "        ref_kl_loss = kl(model, device, test_loader)\n",
    "        print(\"Ref loss\", ref_kl_loss)\n",
    "        \n",
    "        all_labels = []\n",
    "        all_scores = []\n",
    "        for dataset_cls2 in datasets:\n",
    "            test_loader2 = torch.utils.data.DataLoader(\n",
    "                dataset_cls2('../data', train=False, download=True,\n",
    "                               transform=transforms.Compose([\n",
    "                                   transforms.ToTensor(),\n",
    "                                   transforms.Normalize((0.1307,), (0.3081,))\n",
    "             ])),batch_size=batch_size, shuffle=True)\n",
    "            \n",
    "            \n",
    "            OOD = 0\n",
    "            for data, target in test_loader2:\n",
    "                outputs = model(data.to(device))\n",
    "                \n",
    "                kl_losses = []\n",
    "                for i in range(len(outputs) - 1):\n",
    "                    for j in range(i + 1, len(outputs)):\n",
    "                        kl_losses.append(F.kl_div(outputs[i], outputs[j].exp(), reduction='none'))\n",
    "                        kl_losses.append(F.kl_div(outputs[j], outputs[i].exp(), reduction='none'))\n",
    "                        \n",
    "                kl_loss = torch.stack(kl_losses, dim=0).max(dim=0).values\n",
    "                kl_loss = kl_loss.sum(dim=-1)\n",
    "                \n",
    "                similar = outputs[0].argmax(dim=-1) == outputs[1].argmax(dim=-1)\n",
    "                \n",
    "                normed = kl_loss / ref_kl_loss\n",
    "                \n",
    "                kl_anomaly = normed > 10\n",
    "                non_concordant = similar == False\n",
    "                \n",
    "                out_of_distrib = sum(kl_anomaly | non_concordant)\n",
    "                \n",
    "                N = normed.shape[0]\n",
    "                boolean = dataset_cls2 != dataset_cls\n",
    "                all_labels.extend([boolean] * N)\n",
    "                all_scores.extend(normed.tolist())\n",
    "                \n",
    "                \n",
    "                OOD += out_of_distrib\n",
    "            print(f\"Trained on {dataset_cls.__name__} we detected on {dataset_cls2.__name__} {OOD}/{len(test_loader2.dataset)} ({float(OOD)/len(test_loader2.dataset) * 100:.2f}%) out of distribution\")\n",
    "                   \n",
    "        auc = roc_auc_score(all_labels, all_scores)\n",
    "        print(f\"AUC for {dataset_cls.__name__} : {auc}\")\n",
    "\n",
    "\n",
    "def exp_4():\n",
    "    device = torch.device('cuda' if torch.cuda.is_available() else 'cpu')\n",
    "\n",
    "    for n in [2, 4, 8]:\n",
    "        print('=' * 20)\n",
    "        print(f\"N = {n}\")\n",
    "        run_datasets(lambda: create_n_model(n), suffix=f'_exp4_{n}')\n",
    "        test_datasets_4(create_n_model(n).to(device), suffix=f'_exp4_{n}')\n",
    "    \n",
    "# exp_4()"
   ]
  },
  {
   "cell_type": "code",
   "execution_count": 24,
   "metadata": {},
   "outputs": [
    {
     "name": "stdout",
     "output_type": "stream",
     "text": [
      "====================\n",
      "N = 2\n",
      "\n",
      "Test set: Average loss: 0.0221, len 10000 \n",
      "\n",
      "Ref loss 0.022054713488323614\n",
      "Trained on MNIST we detected on MNIST 348/10000 (3.48%) out of distribution\n",
      "Trained on MNIST we detected on FashionMNIST 7453/10000 (74.53%) out of distribution\n",
      "AUC for MNIST : 0.96813343\n",
      "\n",
      "Test set: Average loss: 0.0563, len 10000 \n",
      "\n",
      "Ref loss 0.05634785660505295\n",
      "Trained on FashionMNIST we detected on MNIST 7025/10000 (70.25%) out of distribution\n",
      "Trained on FashionMNIST we detected on FashionMNIST 1026/10000 (10.26%) out of distribution\n",
      "AUC for FashionMNIST : 0.8957392850000001\n",
      "====================\n",
      "N = 4\n",
      "\n",
      "Test set: Average loss: 0.0267, len 10000 \n",
      "\n",
      "Ref loss 0.02668519279870622\n",
      "Trained on MNIST we detected on MNIST 572/10000 (5.72%) out of distribution\n",
      "Trained on MNIST we detected on FashionMNIST 9007/10000 (90.07%) out of distribution\n",
      "AUC for MNIST : 0.9743065499999999\n",
      "\n",
      "Test set: Average loss: 0.0542, len 10000 \n",
      "\n",
      "Ref loss 0.054210807734727834\n",
      "Trained on FashionMNIST we detected on MNIST 8587/10000 (85.87%) out of distribution\n",
      "Trained on FashionMNIST we detected on FashionMNIST 1973/10000 (19.73%) out of distribution\n",
      "AUC for FashionMNIST : 0.92850006\n",
      "====================\n",
      "N = 8\n",
      "\n",
      "Test set: Average loss: 0.0273, len 10000 \n",
      "\n",
      "Ref loss 0.02726993394574659\n",
      "Trained on MNIST we detected on MNIST 781/10000 (7.81%) out of distribution\n",
      "Trained on MNIST we detected on FashionMNIST 9555/10000 (95.55%) out of distribution\n",
      "AUC for MNIST : 0.97999138\n",
      "\n",
      "Test set: Average loss: 0.0565, len 10000 \n",
      "\n",
      "Ref loss 0.05649233816138335\n",
      "Trained on FashionMNIST we detected on MNIST 9203/10000 (92.03%) out of distribution\n",
      "Trained on FashionMNIST we detected on FashionMNIST 2602/10000 (26.02%) out of distribution\n",
      "AUC for FashionMNIST : 0.95075599\n"
     ]
    }
   ],
   "source": [
    "#hide\n",
    "exp_4()"
   ]
  },
  {
   "cell_type": "markdown",
   "metadata": {},
   "source": [
    "Seems not to be working too great, we ARE improving AUC. Not by a strong margin, it is probably just that we are having a better approximator of our metric by ensembling."
   ]
  },
  {
   "cell_type": "markdown",
   "metadata": {},
   "source": [
    "### Experiment 5\n",
    "\n",
    "Test on a larger output space, like CIFAR-100 and SVHN, to check that part of the limits are actually due to small number of output classes\n",
    "for MNIST/FashionMNIST\n",
    "Other idea is to test on Transformers. Early experiment seems to show that we can use that idea to detect different language within text with just the kl_div used as a distance.\n",
    "\n",
    "Found French book within english books dataset, AND english paragraphs *within* this french book.\n",
    "Needs some work to clean this experiment"
   ]
  },
  {
   "cell_type": "markdown",
   "metadata": {},
   "source": [
    "- Show that small network trained on a single english book enables to detect different languages\n",
    "  or different patterns of writing (old english, irish, french, or event dictionnaries)\n",
    "- The detection is super fined grained capable of detecting english within a French book."
   ]
  },
  {
   "cell_type": "markdown",
   "metadata": {},
   "source": [
    "For brevity, we won't include training code. We just trained a simple transformer (6 layers deep) on a english text and checked our metric on some other texts."
   ]
  },
  {
   "cell_type": "markdown",
   "metadata": {},
   "source": [
    "![title](images/self-kl-train-eng.png)\n",
    "![title](images/self-kl-test-eng.png)\n",
    "![title](images/self-kl-test-fr.png)"
   ]
  },
  {
   "cell_type": "markdown",
   "metadata": {},
   "source": [
    "### Experiment 6\n",
    "\n",
    "Need to test with various training schemes, regularization schemes (dropout, batchnorm, l2 penalization) and so on. We should find that the smoother in-distribution our models behave the more this method should work. Hopefully test accuracy *should* be a good smoothness proxy."
   ]
  },
  {
   "cell_type": "markdown",
   "metadata": {},
   "source": [
    "## Limits"
   ]
  },
  {
   "cell_type": "markdown",
   "metadata": {},
   "source": [
    "The pros for this method are that:\n",
    " - It's super simple to implement, and only costs a constant factor in training time.\n",
    " - You could also extend this to 3, 4 side models, and it *should* improve robustness exponentially if the random factors are correct. If we keep this number small, it will still be constant cost factor.\n",
    " - It does *not* require a perturbation model for input data, which in itself is subject to fine-tuning.\n",
    "\n",
    "\n",
    "The cons is that:\n",
    "- It does not work so well on low dimensional output spaces. \n",
    "- It seems other methods have better results than this one.\n",
    "- It only works for models that output probability distributions (hard to extend to object detection, generation and other tasks)\n",
    "\n",
    " \n",
    "\n",
    "\n"
   ]
  },
  {
   "cell_type": "markdown",
   "metadata": {},
   "source": [
    "## Future Work"
   ]
  },
  {
   "cell_type": "markdown",
   "metadata": {},
   "source": [
    "There is a lot more experiments necessary to verify that the hypothesis in favor of that approach hold. Try to find ways to implement that in other tasks. How to improve out-of-distribution detection."
   ]
  },
  {
   "cell_type": "code",
   "execution_count": null,
   "metadata": {},
   "outputs": [],
   "source": []
  },
  {
   "cell_type": "code",
   "execution_count": null,
   "metadata": {},
   "outputs": [],
   "source": []
  },
  {
   "cell_type": "code",
   "execution_count": null,
   "metadata": {},
   "outputs": [],
   "source": []
  },
  {
   "cell_type": "code",
   "execution_count": null,
   "metadata": {},
   "outputs": [],
   "source": []
  },
  {
   "cell_type": "code",
   "execution_count": null,
   "metadata": {},
   "outputs": [],
   "source": []
  }
 ],
 "metadata": {
  "kernelspec": {
   "display_name": "Python 3",
   "language": "python",
   "name": "python3"
  },
  "language_info": {
   "codemirror_mode": {
    "name": "ipython",
    "version": 3
   },
   "file_extension": ".py",
   "mimetype": "text/x-python",
   "name": "python",
   "nbconvert_exporter": "python",
   "pygments_lexer": "ipython3",
   "version": "3.7.1"
  }
 },
 "nbformat": 4,
 "nbformat_minor": 4
}
