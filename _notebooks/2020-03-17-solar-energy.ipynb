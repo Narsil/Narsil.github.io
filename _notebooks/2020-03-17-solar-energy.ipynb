{
 "cells": [
  {
   "cell_type": "markdown",
   "metadata": {},
   "source": [
    "# Super simple estimation of available solar energy\n",
    "> How much energy is actually renewable and humanity's cap in consumption\n",
    "\n",
    "- toc: true \n",
    "- badges: true\n",
    "- comments: true\n",
    "- categories: [energy]"
   ]
  },
  {
   "cell_type": "markdown",
   "metadata": {},
   "source": [
    "# Solar energy\n",
    "\n",
    "## Stefan boltzmann's law\n",
    "\n",
    "$ \\text{Surface energy} = \\sigma T^4$\n",
    "\n",
    "For the sun, $T = \\text{5,778 }K$\n",
    "\n",
    "$\\sigma = 5.67 \\times 10 ^{-8} W.m^{-2}.K^{-4}$\n"
   ]
  },
  {
   "cell_type": "code",
   "execution_count": 13,
   "metadata": {},
   "outputs": [
    {
     "name": "stdout",
     "output_type": "stream",
     "text": [
      "63196526.5460292*watt/meter**2\n"
     ]
    }
   ],
   "source": [
    "from sympy.physics.units import K, W, m\n",
    "\n",
    "sigma = 5.67 * 10**(-8) * W *m**(-2) * K**(-4)\n",
    "T = 5778 * K\n",
    "surface_energy = sigma * T**4\n",
    "print(surface_energy)"
   ]
  },
  {
   "cell_type": "markdown",
   "metadata": {},
   "source": [
    "##  Total emitted solar energy\n",
    "\n",
    "$ Radiation = \\text{Surface of the sun} \\times \\text{Surface energy} $\n",
    "\n",
    "\n",
    "$ Radiation = 4 \\pi r^2 \\times \\text{Surface energy} $\n"
   ]
  },
  {
   "cell_type": "code",
   "execution_count": 9,
   "metadata": {},
   "outputs": [
    {
     "name": "stdout",
     "output_type": "stream",
     "text": [
      "1.22573302243694e+26*pi*watt\n"
     ]
    }
   ],
   "source": [
    "from sympy import *\n",
    "\n",
    "r_sun = 696_340 * 1000 *m\n",
    "surface_of_sun = 4 * pi * r_sun ** 2 \n",
    "radiation = surface_of_sun * surface_energy\n",
    "\n",
    "print(radiation)"
   ]
  },
  {
   "cell_type": "markdown",
   "metadata": {},
   "source": [
    "## Energy received at earth average distance\n",
    "\n",
    "$ \\text{Radiation received} = \\frac{\\text{Total sun radiation}}{ \\text{sphere at earth's distance}}$\n",
    "\n",
    "$ \\text{Radiation received} = \\frac{Radiation}{ 4 \\pi D_{earth-sun}^2} $"
   ]
  },
  {
   "cell_type": "code",
   "execution_count": 12,
   "metadata": {},
   "outputs": [
    {
     "name": "stdout",
     "output_type": "stream",
     "text": [
      "1382.49374484614*watt/meter**2\n"
     ]
    }
   ],
   "source": [
    "R_earth = 6_371 * 1000 * m\n",
    "D_earth_sun = 148.88 * 10**6 * 1000 * m\n",
    "earth_perp_surface = pi * R_earth **2\n",
    "sphere = 4 * pi * D_earth_sun **2\n",
    "\n",
    "radiation_received = radiation / sphere\n",
    "print(radiation_received)"
   ]
  },
  {
   "cell_type": "markdown",
   "metadata": {},
   "source": [
    "## Energy received by the earth surface (before atmosphere)\n",
    "\n",
    "$ \\text{Energy received} = \\text{radiation received} \\times \\frac{ \\text{visible surface}}{ \\text{earth's surface}} $"
   ]
  },
  {
   "cell_type": "code",
   "execution_count": 24,
   "metadata": {},
   "outputs": [
    {
     "name": "stdout",
     "output_type": "stream",
     "text": [
      "345.623436211536*watt/meter**2\n"
     ]
    }
   ],
   "source": [
    "power_received = radiation_received * pi * R_earth **2\n",
    "surface_power_received = power_received / (4 * pi * R_earth **2)\n",
    "\n",
    "print(surface_power_received)"
   ]
  },
  {
   "cell_type": "markdown",
   "metadata": {},
   "source": [
    "## RADIATION RECEIVED BY SYSTEM EARTH  = $345 W.m^{-2}$"
   ]
  },
  {
   "cell_type": "markdown",
   "metadata": {},
   "source": [
    "# Part 2: How much are we consumming right now\n",
    "\n",
    "13 511 MTep (https://www.iea.org/data-and-statistics?country=WORLD&fuel=Energy%20supply&indicator=Total%20primary%20energy%20supply%20(TPES)%20by%20source)\n",
    "\n",
    "\n",
    "\n"
   ]
  },
  {
   "cell_type": "code",
   "execution_count": 21,
   "metadata": {},
   "outputs": [
    {
     "name": "stdout",
     "output_type": "stream",
     "text": [
      "565678548000000000*joule\n"
     ]
    }
   ],
   "source": [
    "from sympy.physics.units import J\n",
    "Mtep = 41_868 *10**9 * J\n",
    "Humanity_total_annual_consumption = 13_511 * Mtep\n",
    "\n",
    "print(Humanity_total_annual_consumption)"
   ]
  },
  {
   "cell_type": "code",
   "execution_count": 23,
   "metadata": {},
   "outputs": [
    {
     "name": "stdout",
     "output_type": "stream",
     "text": [
      "17925271503.5364*joule/second\n"
     ]
    }
   ],
   "source": [
    "from sympy.physics.units import s\n",
    "humanity_power_consumption = Humanity_total_annual_consumption / (365.25 * 24 * 60 * 60 * s)\n",
    "print(humanity_power_consumption)"
   ]
  },
  {
   "cell_type": "code",
   "execution_count": 32,
   "metadata": {},
   "outputs": [
    {
     "name": "stdout",
     "output_type": "stream",
     "text": [
      "1.01680455844062e-7\n"
     ]
    }
   ],
   "source": [
    "from sympy.physics.units.util import convert_to\n",
    "print(convert_to(humanity_power_consumption / power_received, [J, s]).n())"
   ]
  },
  {
   "cell_type": "markdown",
   "metadata": {},
   "source": [
    "That's a very small percentage (0.000001% of the theoretical max), of a \"dyson sphere\" all around the earth. We're not there yet."
   ]
  },
  {
   "cell_type": "markdown",
   "metadata": {},
   "source": [
    "### A bit more realistic approach"
   ]
  },
  {
   "cell_type": "markdown",
   "metadata": {},
   "source": [
    "After the atmosphere only $168 W.m^{-2}$ hit the surface. It's quite complicated to infer it depends on the wavelength of the incoming light, clouds, composition of the atmosphere and so on, so we just take the value from here : https://fr.wikipedia.org/wiki/Bilan_radiatif_de_la_Terre."
   ]
  },
  {
   "cell_type": "markdown",
   "metadata": {},
   "source": [
    "Then we only have 29% of the earth surface that is landmass (where we can reasonably put solar panels in large quantity)"
   ]
  },
  {
   "cell_type": "markdown",
   "metadata": {},
   "source": [
    "Of that 31% is covered in forest which are already some natural solar panels we don't  want to remove (for other obvious reasons)"
   ]
  },
  {
   "cell_type": "markdown",
   "metadata": {},
   "source": [
    "Then solar panels are not 100% efficient. They are roughly only 20% efficient."
   ]
  },
  {
   "cell_type": "code",
   "execution_count": 33,
   "metadata": {},
   "outputs": [
    {
     "name": "stdout",
     "output_type": "stream",
     "text": [
      "1.09159507485504e+15*pi*watt\n"
     ]
    }
   ],
   "source": [
    "earth_power_received = 168 * W * m **(-2)\n",
    "\n",
    "available_surface = 4 * pi * R_earth **2 * 0.29 * .69\n",
    "\n",
    "max_power = earth_power_received * available_surface * 0.2\n",
    "\n",
    "print(max_power)"
   ]
  },
  {
   "cell_type": "code",
   "execution_count": null,
   "metadata": {},
   "outputs": [],
   "source": []
  }
 ],
 "metadata": {
  "kernelspec": {
   "display_name": "Python 3",
   "language": "python",
   "name": "python3"
  },
  "language_info": {
   "codemirror_mode": {
    "name": "ipython",
    "version": 3
   },
   "file_extension": ".py",
   "mimetype": "text/x-python",
   "name": "python",
   "nbconvert_exporter": "python",
   "pygments_lexer": "ipython3",
   "version": "3.7.4"
  }
 },
 "nbformat": 4,
 "nbformat_minor": 4
}
